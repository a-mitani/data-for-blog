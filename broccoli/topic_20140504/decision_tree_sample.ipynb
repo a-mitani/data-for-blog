{
 "metadata": {
  "name": ""
 },
 "nbformat": 3,
 "nbformat_minor": 0,
 "worksheets": [
  {
   "cells": [
    {
     "cell_type": "heading",
     "level": 3,
     "metadata": {},
     "source": [
      "\u304a\u307e\u3058\u306a\u3044\uff08\u30d7\u30ed\u30c3\u30c8\u3092\u30a4\u30f3\u30e9\u30a4\u30f3\u3067\u8868\u793a\u3059\u308b\u305f\u3081\uff09"
     ]
    },
    {
     "cell_type": "code",
     "collapsed": false,
     "input": [
      "%pylab inline"
     ],
     "language": "python",
     "metadata": {},
     "outputs": [
      {
       "output_type": "stream",
       "stream": "stdout",
       "text": [
        "Populating the interactive namespace from numpy and matplotlib\n"
       ]
      }
     ],
     "prompt_number": 1
    },
    {
     "cell_type": "heading",
     "level": 3,
     "metadata": {},
     "source": [
      "\u5b66\u7fd2\u30c7\u30fc\u30bf\u306e\u30d7\u30ed\u30c3\u30c8"
     ]
    },
    {
     "cell_type": "code",
     "collapsed": false,
     "input": [
      "import pandas as pd\n",
      "import matplotlib.pyplot as plt\n",
      "\n",
      "def x_y_species(df, species_name):\n",
      "    x_array = df[df['class'] == species_name]['x'].values\n",
      "    y_array = df[df['class'] == species_name]['y'].values\n",
      "    return x_array, y_array\n",
      "\n",
      "df = pd.read_csv('xor_simple.csv')\n",
      "x_array, y_array = x_y_species(df, 0)\n",
      "plt.plot(x_array, y_array, 'bo')\n",
      "\n",
      "x_array, y_array = x_y_species(df, 1)\n",
      "plt.plot(x_array, y_array, 'ro')\n",
      "plt.xlabel('x', fontsize=20)\n",
      "plt.ylabel('y', fontsize=20)\n",
      "plt.axis(\"tight\", fontsize=20)\n",
      "x_min, x_max = x_array.min() - 1, x_array.max() + 1\n",
      "y_min, y_max = y_array.min() - 1, y_array.max() + 1\n",
      "plt.xlim((x_min, x_max))\n",
      "plt.ylim((y_min, y_max))\n",
      "plt.show()"
     ],
     "language": "python",
     "metadata": {},
     "outputs": [
      {
       "metadata": {},
       "output_type": "display_data",
       "png": "[encoded data removed]",
       "text": [
        "<matplotlib.figure.Figure at 0x82fa780>"
       ]
      }
     ],
     "prompt_number": 2
    },
    {
     "cell_type": "heading",
     "level": 3,
     "metadata": {},
     "source": [
      "\u6559\u5e2b\u30c7\u30fc\u30bf\u306e\u30ed\u30fc\u30c9 \u21d2 \u5b66\u7fd2 \u21d2 \u5206\u985e"
     ]
    },
    {
     "cell_type": "code",
     "collapsed": false,
     "input": [
      "import numpy as np\n",
      "from sklearn import tree\n",
      "\n",
      "# \u6559\u5e2b\u30c7\u30fc\u30bf\u3092\u30ed\u30fc\u30c9\n",
      "df = pd.read_csv('xor_simple.csv'); \n",
      "data_array = df[['x', 'y']].values\n",
      "class_array = df['class'].values\n",
      "\n",
      "# \u5b66\u7fd2\uff08\u6c7a\u5b9a\u6728\uff09\n",
      "clf = tree.DecisionTreeClassifier()\n",
      "clf = clf.fit(data_array, class_array)\n",
      "\n",
      "#\u5b66\u7fd2\u5f8c\u306b\u3001\u30c7\u30fc\u30bf\u3092\u4e0e\u3048\u3066\u5206\u985e\u3002\n",
      "#\u4e0e\u3048\u3089\u308c\u305f\u6559\u5e2b\u30c7\u30fc\u30bf\u306e\u7279\u5fb4\u304b\u3089\u8003\u3048\u308b\u3068\n",
      "# x=2.0, y=1.0 \u3067\u3042\u308c\u3070\u3001\u30af\u30e9\u30b9\u300c0\u300d\u306b\u5206\u985e\u3055\u308c\u308b\u306f\u305a\u3002\n",
      "# x=1.0, y= -0.5\u3067\u3042\u308c\u3070\u3001\u30af\u30e9\u30b9\u300c1\u300d\u306b\u5206\u985e\u3055\u308c\u308b\u306f\u305a\u3002\n",
      "result = clf.predict([[2., 1.], [1., -0.5]]) \n",
      "print \"result is ... \", result\n"
     ],
     "language": "python",
     "metadata": {},
     "outputs": [
      {
       "output_type": "stream",
       "stream": "stdout",
       "text": [
        "result is ...  [0 1]\n"
       ]
      }
     ],
     "prompt_number": 3
    },
    {
     "cell_type": "heading",
     "level": 3,
     "metadata": {},
     "source": [
      "\u6c7a\u5b9a\u5883\u754c\u306e\u53ef\u8996\u5316"
     ]
    },
    {
     "cell_type": "code",
     "collapsed": false,
     "input": [
      "# Parameters for plot\n",
      "n_classes = 2\n",
      "plot_colors = \"br\"\n",
      "plot_step = 0.05\n",
      "\n",
      "#\u30b0\u30e9\u30d5\u63cf\u753b\u6642\u306e\u8aac\u660e\u5909\u6570 x\u3001y\u306e\u6700\u5927\u5024\uff06\u6700\u5c0f\u5024\u3092\u7b97\u51fa\u3002\n",
      "#\u30b0\u30e9\u30d5\u63cf\u753b\u306e\u30e1\u30c3\u30b7\u30e5\u3092\u5b9a\u7fa9\n",
      "x_min, x_max = data_array[:, 0].min() - 1, data_array[:, 0].max() + 1\n",
      "y_min, y_max = data_array[:, 1].min() - 1, data_array[:, 1].max() + 1\n",
      "xx, yy = np.meshgrid(np.arange(x_min, x_max, plot_step),\n",
      "                     np.arange(y_min, y_max, plot_step))\n",
      "\n",
      "#\u5404\u30e1\u30c3\u30b7\u30e5\u4e0a\u3067\u306e\u6c7a\u5b9a\u6728\u306b\u3088\u308b\u5206\u985e\u3092\u8a08\u7b97\n",
      "Z = clf.predict(np.c_[xx.ravel(), yy.ravel()])\n",
      "Z = Z.reshape(xx.shape)\n",
      "\n",
      "#\u6c7a\u5b9a\u6728\u306b\u3088\u308b\u5206\u985e\u3092\u7b49\u9ad8\u7dda\u30d5\u30a3\u30fc\u30eb\u30c9\u30d7\u30ed\u30c3\u30c8\u3067\u30d7\u30ed\u30c3\u30c8\n",
      "cs = plt.contour(xx, yy, Z, cmap=plt.cm.Paired)\n",
      "plt.xlabel('x')\n",
      "plt.ylabel('y')\n",
      "plt.axis(\"tight\")\n",
      "\n",
      "#\u6559\u5e2b\u30c7\u30fc\u30bf\u3082\u91cd\u306d\u3066\u30d7\u30ed\u30c3\u30c8\n",
      "for i, color in zip(range(n_classes), plot_colors):\n",
      "    idx = np.where(class_array == i)\n",
      "    plt.scatter(data_array[idx, 0], data_array[idx, 1], c=color, label=['a','b'],\n",
      "               cmap=plt.cm.Paired)\n",
      "plt.axis(\"tight\")\n",
      "\n",
      "plt.show()\n"
     ],
     "language": "python",
     "metadata": {},
     "outputs": [
      {
       "metadata": {},
       "output_type": "display_data",
       "png": "[encoded data removed]",
       "text": [
        "<matplotlib.figure.Figure at 0xa9fc908>"
       ]
      }
     ],
     "prompt_number": 4
    },
    {
     "cell_type": "heading",
     "level": 3,
     "metadata": {},
     "source": [
      "\u6c7a\u5b9a\u6728\u306e\u4e2d\u8eab\u3092\u8868\u793a\u3059\u308b\u305f\u3081\u306edot\u30d5\u30a1\u30a4\u30eb\u306e\u51fa\u529b"
     ]
    },
    {
     "cell_type": "code",
     "collapsed": false,
     "input": [
      "from sklearn.externals.six import StringIO\n",
      "\n",
      "with open(\"xor_simple.dot\", 'w') as f:\n",
      "    f = tree.export_graphviz(clf, out_file=f)\n",
      "f.close()"
     ],
     "language": "python",
     "metadata": {},
     "outputs": [],
     "prompt_number": 5
    }
   ],
   "metadata": {}
  }
 ]
}