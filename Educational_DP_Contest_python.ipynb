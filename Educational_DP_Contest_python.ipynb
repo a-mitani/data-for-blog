{
  "nbformat": 4,
  "nbformat_minor": 0,
  "metadata": {
    "colab": {
      "name": "Educational_DP_Contest_python.ipynb",
      "provenance": [],
      "collapsed_sections": [],
      "authorship_tag": "ABX9TyOZfytG3Ki3Gxf6MbutsNcX",
      "include_colab_link": true
    },
    "kernelspec": {
      "name": "python3",
      "display_name": "Python 3"
    }
  },
  "cells": [
    {
      "cell_type": "markdown",
      "metadata": {
        "id": "view-in-github",
        "colab_type": "text"
      },
      "source": [
        "<a href=\"https://colab.research.google.com/github/a-mitani/data-for-blog/blob/master/Educational_DP_Contest_python.ipynb\" target=\"_parent\"><img src=\"https://colab.research.google.com/assets/colab-badge.svg\" alt=\"Open In Colab\"/></a>"
      ]
    },
    {
      "cell_type": "markdown",
      "metadata": {
        "id": "tU2IpBqAfJRR",
        "colab_type": "text"
      },
      "source": [
        "# はじめに\n",
        "このノートブックは[Educational DP contest](https://atcoder.jp/contests/dp)のA~Z問題の解答をPythonで実装したものです。\n",
        "\n",
        "解答コードはC++言語で書かれたQiita記事「[動的計画法超入門](https://qiita.com/drken/items/dc53c683d6de8aeacf5a)」の解答をPythonにほぼそのまま焼き直したものです。考え方はネタ元のQiita記事が凄くわかりやすいのでそちらを参考にしてください。\n",
        "「Python言語使用者でDPを勉強する際のお役に立てれば」と思い公開しています。\n",
        "\n",
        "\n",
        "※ コードのアウトプットがコンテストの出力例と合致していることはテスト済み。\n",
        "\n"
      ]
    },
    {
      "cell_type": "code",
      "metadata": {
        "id": "ybIU3lBHFkJE",
        "colab_type": "code",
        "colab": {}
      },
      "source": [
        "import numpy as np\n",
        "import math"
      ],
      "execution_count": 1,
      "outputs": []
    },
    {
      "cell_type": "markdown",
      "metadata": {
        "id": "w1ALtb7dhFiI",
        "colab_type": "text"
      },
      "source": [
        "# 問題A：Frog1\n",
        "## 集めるDP"
      ]
    },
    {
      "cell_type": "code",
      "metadata": {
        "id": "7ls6DNtfJ_60",
        "colab_type": "code",
        "colab": {}
      },
      "source": [
        "def frog1(n, h):\n",
        "    # DP配列の初期化\n",
        "    dp = np.full(n, np.inf)\n",
        "\n",
        "    # 初期条件設定\n",
        "    dp[0] = 0\n",
        "\n",
        "    # ループ\n",
        "    for i in range (1, n):\n",
        "        dp[i] = min(dp[i], dp[i-1] + abs(h[i] - h[i - 1]))\n",
        "        if i > 1:\n",
        "            dp[i] = min(dp[i], dp[i-2] + abs(h[i] - h[i - 2]))\n",
        "\n",
        "    return dp[-1]"
      ],
      "execution_count": null,
      "outputs": []
    },
    {
      "cell_type": "code",
      "metadata": {
        "id": "avreacC-fR3J",
        "colab_type": "code",
        "colab": {}
      },
      "source": [
        "#### 入力\n",
        "# n = 4\n",
        "# h = [10, 30, 40, 20]\n",
        "# n = 2\n",
        "# h = [10, 10]\n",
        "n = 6\n",
        "h = [30, 10,60, 10, 60, 50]"
      ],
      "execution_count": null,
      "outputs": []
    },
    {
      "cell_type": "code",
      "metadata": {
        "id": "SYosC2fNc7MH",
        "colab_type": "code",
        "colab": {
          "base_uri": "https://localhost:8080/",
          "height": 33
        },
        "outputId": "17f5c3bd-e1b6-4660-94e9-00aad04a1688"
      },
      "source": [
        "frog1(n, h)"
      ],
      "execution_count": null,
      "outputs": [
        {
          "output_type": "execute_result",
          "data": {
            "text/plain": [
              "40.0"
            ]
          },
          "metadata": {
            "tags": []
          },
          "execution_count": 43
        }
      ]
    },
    {
      "cell_type": "markdown",
      "metadata": {
        "id": "6CZ__Bd3iS69",
        "colab_type": "text"
      },
      "source": [
        "### 配るDP\n"
      ]
    },
    {
      "cell_type": "code",
      "metadata": {
        "id": "0xvaWuRair4z",
        "colab_type": "code",
        "colab": {}
      },
      "source": [
        "def frog1_dist(n, h):\n",
        "    # DP配列の初期化\n",
        "    dp = np.full(n, np.inf)\n",
        "\n",
        "    # 初期条件設定\n",
        "    dp[0] = 0\n",
        "\n",
        "    # ループ\n",
        "    for i in range (0, n):\n",
        "        target = i + 1\n",
        "        if(target) < n:\n",
        "            dp[target] = min(dp[target], dp[i] + abs(h[i] - h[target]))\n",
        "        target = i + 2\n",
        "        if(target) < n:\n",
        "            dp[target] = min(dp[target], dp[i] + abs(h[i] - h[target]))\n",
        "\n",
        "    return dp[-1]"
      ],
      "execution_count": 2,
      "outputs": []
    },
    {
      "cell_type": "code",
      "metadata": {
        "id": "X_9ZhCk7kAeo",
        "colab_type": "code",
        "colab": {}
      },
      "source": [
        "#### 入力\n",
        "# n = 4\n",
        "# h = [10, 30, 40, 20]\n",
        "# n = 2\n",
        "# h = [10, 10]\n",
        "n = 6\n",
        "h = [30, 10,60, 10, 60, 50]"
      ],
      "execution_count": 8,
      "outputs": []
    },
    {
      "cell_type": "code",
      "metadata": {
        "id": "b6vqGYKOkGhp",
        "colab_type": "code",
        "colab": {
          "base_uri": "https://localhost:8080/",
          "height": 33
        },
        "outputId": "83aa2659-d733-4b8d-96ca-87658d89e381"
      },
      "source": [
        "frog1_dist(n, h)"
      ],
      "execution_count": 9,
      "outputs": [
        {
          "output_type": "execute_result",
          "data": {
            "text/plain": [
              "40.0"
            ]
          },
          "metadata": {
            "tags": []
          },
          "execution_count": 9
        }
      ]
    },
    {
      "cell_type": "code",
      "metadata": {
        "id": "B9p2QBFzkIOi",
        "colab_type": "code",
        "colab": {}
      },
      "source": [
        ""
      ],
      "execution_count": null,
      "outputs": []
    }
  ]
}